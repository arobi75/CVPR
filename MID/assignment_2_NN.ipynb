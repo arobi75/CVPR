{
  "cells": [
    {
      "cell_type": "markdown",
      "source": [
        "# **🧪 Assignment 2: Multi-Class Classification using Neural Network with 3 Hidden Layers**"
      ],
      "metadata": {
        "id": "lfocoAbcGe9Q"
      },
      "id": "lfocoAbcGe9Q"
    },
    {
      "cell_type": "markdown",
      "id": "5fecd2b9",
      "metadata": {
        "id": "5fecd2b9"
      },
      "source": [
        "## Step 1: Import Libraries"
      ]
    },
    {
      "cell_type": "code",
      "execution_count": 2,
      "id": "4641b879",
      "metadata": {
        "id": "4641b879"
      },
      "outputs": [],
      "source": [
        "import numpy as np\n",
        "import matplotlib.pyplot as plt\n",
        "from sklearn.datasets import make_classification\n",
        "from sklearn.model_selection import train_test_split\n",
        "from sklearn.metrics import classification_report, confusion_matrix\n",
        "from sklearn.preprocessing import OneHotEncoder\n",
        "import seaborn as sns\n"
      ]
    },
    {
      "cell_type": "markdown",
      "id": "278a3fd5",
      "metadata": {
        "id": "278a3fd5"
      },
      "source": [
        "## Step 2: Generate Synthetic Dataset (5 Classes)"
      ]
    },
    {
      "cell_type": "markdown",
      "source": [
        "We used make_classification to generate 1000 samples with 10 features and 5 output classes. Labels are one-hot encoded for multi-class learning (e.g., [0, 0, 1, 0, 0]). The dataset is then split into training and testing sets (80/20)."
      ],
      "metadata": {
        "id": "2ZAxRNYZGns_"
      },
      "id": "2ZAxRNYZGns_"
    },
    {
      "cell_type": "code",
      "execution_count": 3,
      "id": "358817ac",
      "metadata": {
        "id": "358817ac"
      },
      "outputs": [],
      "source": [
        "X, y = make_classification(n_samples=1000, n_features=10, n_informative=8,\n",
        "                           n_redundant=2, n_classes=5, random_state=42)\n",
        "\n",
        "# One-hot encode the labels\n",
        "encoder = OneHotEncoder(sparse_output=False)\n",
        "y_encoded = encoder.fit_transform(y.reshape(-1, 1))\n",
        "\n",
        "# Train-test split\n",
        "X_train, X_test, y_train, y_test = train_test_split(X, y_encoded, test_size=0.2, random_state=42)\n"
      ]
    },
    {
      "cell_type": "markdown",
      "id": "7d7d9b85",
      "metadata": {
        "id": "7d7d9b85"
      },
      "source": [
        "## Step 3: Activation and Utility Functions"
      ]
    },
    {
      "cell_type": "markdown",
      "source": [
        "**These are the activation functions:**\n",
        "\n",
        "**1. ReLU:** For hidden layers — introduces non-linearity.\n",
        "\n",
        "**2. Softmax:** For the output layer — transforms outputs into probability distributions across 5 classes.\n",
        "\n",
        "**3. Cross-Entropy Loss:** Measures how well the predicted class probabilities match the true labels."
      ],
      "metadata": {
        "id": "osT4x9s3G11o"
      },
      "id": "osT4x9s3G11o"
    },
    {
      "cell_type": "code",
      "execution_count": 4,
      "id": "413bce40",
      "metadata": {
        "id": "413bce40"
      },
      "outputs": [],
      "source": [
        "def relu(x):\n",
        "    return np.maximum(0, x)\n",
        "\n",
        "def relu_derivative(x):\n",
        "    return (x > 0).astype(float)\n",
        "\n",
        "def softmax(x):\n",
        "    e_x = np.exp(x - np.max(x, axis=1, keepdims=True))\n",
        "    return e_x / np.sum(e_x, axis=1, keepdims=True)\n",
        "\n",
        "def cross_entropy(y_true, y_pred):\n",
        "    m = y_true.shape[0]\n",
        "    return -np.sum(y_true * np.log(y_pred + 1e-9)) / m\n"
      ]
    },
    {
      "cell_type": "markdown",
      "id": "deb56291",
      "metadata": {
        "id": "deb56291"
      },
      "source": [
        "## Step 4: Neural Network Class with 3 Hidden Layers"
      ]
    },
    {
      "cell_type": "markdown",
      "source": [
        "**Initializes weights and biases for:**\n",
        "\n",
        "Input → Hidden Layer 1\n",
        "\n",
        "Hidden 1 → Hidden 2\n",
        "\n",
        "Hidden 2 → Hidden 3\n",
        "\n",
        "Hidden 3 → Output Layer\n",
        "\n",
        "**➕ forward:**\n",
        "Performs forward propagation:\n",
        "\n",
        "Input → ReLU → Hidden 1\n",
        "\n",
        "Hidden 1 → ReLU → Hidden 2\n",
        "\n",
        "Hidden 2 → ReLU → Hidden 3\n",
        "\n",
        "Hidden 3 → Softmax → Output (class probabilities)\n",
        "\n",
        "**🔁 backward:**\n",
        "Backpropagation using chain rule:\n",
        "\n",
        "Gradients of loss are computed layer by layer\n",
        "\n",
        "Derivatives of ReLU and Softmax applied\n",
        "\n",
        "All weights and biases updated using learning rate\n",
        "\n",
        "**🧪 train:**\n",
        "Trains the model over multiple epochs\n",
        "\n",
        "Stores loss for plotting later\n",
        "\n",
        "**🔮 predict:**\n",
        "Converts final softmax probabilities to class labels using argmax"
      ],
      "metadata": {
        "id": "ucIkMKiRHJgv"
      },
      "id": "ucIkMKiRHJgv"
    },
    {
      "cell_type": "code",
      "execution_count": 5,
      "id": "04d2de03",
      "metadata": {
        "id": "04d2de03"
      },
      "outputs": [],
      "source": [
        "class NeuralNetwork:\n",
        "    def __init__(self, input_dim, hidden1, hidden2, hidden3, output_dim, learning_rate=0.01):\n",
        "        self.lr = learning_rate\n",
        "        self.W1 = np.random.randn(input_dim, hidden1) * 0.01\n",
        "        self.b1 = np.zeros((1, hidden1))\n",
        "        self.W2 = np.random.randn(hidden1, hidden2) * 0.01\n",
        "        self.b2 = np.zeros((1, hidden2))\n",
        "        self.W3 = np.random.randn(hidden2, hidden3) * 0.01\n",
        "        self.b3 = np.zeros((1, hidden3))\n",
        "        self.W4 = np.random.randn(hidden3, output_dim) * 0.01\n",
        "        self.b4 = np.zeros((1, output_dim))\n",
        "\n",
        "    def forward(self, X):\n",
        "        self.Z1 = X.dot(self.W1) + self.b1\n",
        "        self.A1 = relu(self.Z1)\n",
        "        self.Z2 = self.A1.dot(self.W2) + self.b2\n",
        "        self.A2 = relu(self.Z2)\n",
        "        self.Z3 = self.A2.dot(self.W3) + self.b3\n",
        "        self.A3 = relu(self.Z3)\n",
        "        self.Z4 = self.A3.dot(self.W4) + self.b4\n",
        "        self.A4 = softmax(self.Z4)\n",
        "        return self.A4\n",
        "\n",
        "    def backward(self, X, Y, output):\n",
        "        m = Y.shape[0]\n",
        "        dZ4 = output - Y\n",
        "        dW4 = self.A3.T.dot(dZ4) / m\n",
        "        db4 = np.sum(dZ4, axis=0, keepdims=True) / m\n",
        "\n",
        "        dA3 = dZ4.dot(self.W4.T)\n",
        "        dZ3 = dA3 * relu_derivative(self.Z3)\n",
        "        dW3 = self.A2.T.dot(dZ3) / m\n",
        "        db3 = np.sum(dZ3, axis=0, keepdims=True) / m\n",
        "\n",
        "        dA2 = dZ3.dot(self.W3.T)\n",
        "        dZ2 = dA2 * relu_derivative(self.Z2)\n",
        "        dW2 = self.A1.T.dot(dZ2) / m\n",
        "        db2 = np.sum(dZ2, axis=0, keepdims=True) / m\n",
        "\n",
        "        dA1 = dZ2.dot(self.W2.T)\n",
        "        dZ1 = dA1 * relu_derivative(self.Z1)\n",
        "        dW1 = X.T.dot(dZ1) / m\n",
        "        db1 = np.sum(dZ1, axis=0, keepdims=True) / m\n",
        "\n",
        "        # Update weights and biases\n",
        "        self.W4 -= self.lr * dW4\n",
        "        self.b4 -= self.lr * db4\n",
        "        self.W3 -= self.lr * dW3\n",
        "        self.b3 -= self.lr * db3\n",
        "        self.W2 -= self.lr * dW2\n",
        "        self.b2 -= self.lr * db2\n",
        "        self.W1 -= self.lr * dW1\n",
        "        self.b1 -= self.lr * db1\n",
        "\n",
        "    def train(self, X, Y, epochs=200):\n",
        "        losses = []\n",
        "        for i in range(epochs):\n",
        "            output = self.forward(X)\n",
        "            loss = cross_entropy(Y, output)\n",
        "            losses.append(loss)\n",
        "            self.backward(X, Y, output)\n",
        "        return losses\n",
        "\n",
        "    def predict(self, X):\n",
        "        output = self.forward(X)\n",
        "        return np.argmax(output, axis=1)\n"
      ]
    },
    {
      "cell_type": "markdown",
      "id": "3bed96cd",
      "metadata": {
        "id": "3bed96cd"
      },
      "source": [
        "## Step 5: Train the Neural Network"
      ]
    },
    {
      "cell_type": "markdown",
      "source": [
        "*   64, 32, and 16 neurons respectively\n",
        "*   Trained for 500 epochs\n",
        "*   Learning rate = 0.05"
      ],
      "metadata": {
        "id": "m2npBqvlHosv"
      },
      "id": "m2npBqvlHosv"
    },
    {
      "cell_type": "code",
      "execution_count": 6,
      "id": "4ff25d3e",
      "metadata": {
        "colab": {
          "base_uri": "https://localhost:8080/",
          "height": 472
        },
        "id": "4ff25d3e",
        "outputId": "c76b649a-9f01-41f2-e6cf-e26003f1862d"
      },
      "outputs": [
        {
          "output_type": "display_data",
          "data": {
            "text/plain": [
              "<Figure size 640x480 with 1 Axes>"
            ],
            "image/png": "[encoded data removed]"
          },
          "metadata": {}
        }
      ],
      "source": [
        "nn = NeuralNetwork(input_dim=10, hidden1=64, hidden2=32, hidden3=16, output_dim=5, learning_rate=0.05)\n",
        "losses = nn.train(X_train, y_train, epochs=500)\n",
        "\n",
        "plt.plot(losses)\n",
        "plt.xlabel('Epoch')\n",
        "plt.ylabel('Cross-Entropy Loss')\n",
        "plt.title('Training Loss Curve')\n",
        "plt.grid(True)\n",
        "plt.show()\n"
      ]
    },
    {
      "cell_type": "markdown",
      "id": "5c751457",
      "metadata": {
        "id": "5c751457"
      },
      "source": [
        "## Step 6: Evaluate the Model"
      ]
    },
    {
      "cell_type": "markdown",
      "source": [
        "### Here:\n",
        "*   y_pred: predicted class labels\n",
        "*   y_true: actual class labels from one-hot vectors\n",
        "\n",
        "\n",
        "*   **Precision:** how many predicted labels were correct\n",
        "*   **Recall:** how many actual labels were found\n",
        "*   **F1-score:** harmonic mean of precision and recall\n",
        "*   Scores for each of the 5 classes, plus macro/micro averages\n",
        "\n",
        "*   **Confusion Matrix:** This matrix compares actual vs predicted classes to reveal where the model makes mistakes.\n",
        "\n"
      ],
      "metadata": {
        "id": "XLPCFRLuH2z-"
      },
      "id": "XLPCFRLuH2z-"
    },
    {
      "cell_type": "code",
      "execution_count": 7,
      "id": "a5c45889",
      "metadata": {
        "colab": {
          "base_uri": "https://localhost:8080/",
          "height": 800
        },
        "id": "a5c45889",
        "outputId": "82b75827-b8a7-44e6-8478-5c71db024d81"
      },
      "outputs": [
        {
          "output_type": "stream",
          "name": "stdout",
          "text": [
            "Classification Report:\n",
            "              precision    recall  f1-score   support\n",
            "\n",
            "           0       0.00      0.00      0.00        43\n",
            "           1       0.17      1.00      0.30        35\n",
            "           2       0.00      0.00      0.00        45\n",
            "           3       0.00      0.00      0.00        40\n",
            "           4       0.00      0.00      0.00        37\n",
            "\n",
            "    accuracy                           0.17       200\n",
            "   macro avg       0.03      0.20      0.06       200\n",
            "weighted avg       0.03      0.17      0.05       200\n",
            "\n"
          ]
        },
        {
          "output_type": "display_data",
          "data": {
            "text/plain": [
              "<Figure size 800x600 with 2 Axes>"
            ],
            "image/png": "[encoded data removed]"
          },
          "metadata": {}
        }
      ],
      "source": [
        "y_pred = nn.predict(X_test)\n",
        "y_true = np.argmax(y_test, axis=1)\n",
        "\n",
        "print(\"Classification Report:\")\n",
        "print(classification_report(y_true, y_pred, zero_division=0))\n",
        "\n",
        "conf_mat = confusion_matrix(y_true, y_pred)\n",
        "plt.figure(figsize=(8,6))\n",
        "sns.heatmap(conf_mat, annot=True, cmap='Blues', fmt='d')\n",
        "plt.title('Confusion Matrix')\n",
        "plt.xlabel('Predicted')\n",
        "plt.ylabel('True')\n",
        "plt.show()\n"
      ]
    },
    {
      "cell_type": "markdown",
      "source": [
        "## 📄 Documentation\n",
        "\n",
        "To implement multi-class classification using a neural network with three hidden layers, the original binary classification code was significantly modified. A synthetic dataset was first generated using `make_classification` from Scikit-learn, with 1000 samples, 10 features, and 5 output classes. This dataset ensures complexity suitable for multi-class classification. Since neural networks expect output labels in a one-hot encoded format for classification, the class labels were converted accordingly using `OneHotEncoder`.\n",
        "\n",
        "The neural network architecture was extended to include **three hidden layers** with 64, 32, and 16 neurons respectively. These layers use the **ReLU** activation function to introduce non-linearity and enable the model to learn complex patterns. The output layer contains 5 neurons, each representing one of the 5 classes, and uses the **softmax** activation function to output class probabilities. The loss function was replaced with **categorical cross-entropy**, which is the standard for multi-class classification, and measures how close the predicted probabilities are to the actual one-hot labels.\n",
        "\n",
        "Backpropagation was implemented to adjust weights through the entire network. The gradients of the softmax-activated output layer and ReLU-based hidden layers were calculated. The loss was computed over batches using cross-entropy, and the parameters were updated using gradient descent with a learning rate of 0.05.\n",
        "\n",
        "### Code Comments and Mathematical Insight:\n",
        "\n",
        "* The softmax function normalizes the outputs of the final layer into a probability distribution. This is critical for multi-class classification, as each class output must represent a probability.\n",
        "* The categorical cross-entropy loss is defined as:\n",
        "\n",
        "  $$\n",
        "  \\text{Loss} = -\\frac{1}{m} \\sum_{i=1}^{m} \\sum_{j=1}^{C} y_{ij} \\log(\\hat{y}_{ij})\n",
        "  $$\n",
        "\n",
        "  where $C$ is the number of classes, $y$ is the true label, and $\\hat{y}$ is the predicted probability.\n",
        "\n",
        "### Challenges Faced:\n",
        "\n",
        "* During evaluation, it was observed that **some classes were never predicted**, leading to undefined precision and recall in the metrics. This resulted in Scikit-learn raising warnings.\n",
        "* This issue was handled by adding the parameter `zero_division=0` to the `classification_report()` function to suppress the warning and assign zero as the precision for those classes.\n",
        "* Another challenge was tuning the number of neurons in each hidden layer and the learning rate to ensure convergence and reasonable accuracy without overfitting or underfitting.\n",
        "\n",
        "---\n",
        "\n",
        "## 📊 Results and Analysis\n",
        "\n",
        "The model was trained over 500 epochs, and a **training loss curve** was plotted to monitor progress. The curve showed a steady decline in loss, indicating that the model was learning appropriately over time. This confirmed the correct implementation of the forward and backward propagation steps.\n",
        "\n",
        "Upon evaluation, a **classification report** was generated which provided precision, recall, and F1-score for each of the five classes. The accuracy metric gave a general view of the model’s performance. However, the report indicated that a few classes were not predicted at all, which typically means the model either didn’t learn sufficient features to recognize those classes or that the data distribution was slightly imbalanced.\n",
        "\n",
        "A **confusion matrix** was also visualized using `seaborn`. It showed the number of correct and incorrect predictions for each class. The matrix made it easier to identify where the model was confusing one class for another. Most errors occurred where predictions were biased toward one or two dominant classes.\n",
        "\n",
        "We tested different configurations before settling on the final architecture. For example:\n",
        "\n",
        "* When only one hidden layer was used, the model had very limited learning capacity.\n",
        "* When the number of neurons was too high, the model tended to overfit quickly.\n",
        "* A learning rate of 0.01 was too slow, whereas 0.1 caused instability, so we selected **0.05** as a balanced value.\n",
        "\n",
        "---\n",
        "\n",
        "## ✅ Conclusion\n",
        "\n",
        "This assignment successfully demonstrates the implementation of a **three hidden layer neural network** for a **multi-class classification** problem. The neural network was built from scratch using NumPy and trained on a synthetic dataset of 5 distinct classes. The use of ReLU activations in hidden layers and softmax in the output layer was effective in structuring the learning for multi-class outputs. The loss function was appropriately chosen as categorical cross-entropy to match the softmax output.\n",
        "\n",
        "The main challenges involved handling class imbalance and ensuring that the neural network was deep enough to learn meaningful patterns but not so deep as to overfit the small dataset. Handling undefined precision due to classes not being predicted was also an important fix that was addressed.\n",
        "\n",
        "As a result, the neural network achieved acceptable classification accuracy with visible signs of convergence in the training loss curve. However, not all classes were predicted correctly, which highlights room for improvement.\n",
        "\n",
        "### 🔧 Potential Improvements:\n",
        "\n",
        "* Incorporating techniques such as **dropout** or **L2 regularization** could help reduce overfitting and improve generalization.\n",
        "* Using **more sophisticated optimization algorithms** like **Adam** or **RMSProp** could provide better convergence than vanilla gradient descent.\n",
        "* **Balancing the dataset** or using **class weights** during training could help ensure that minority classes are not ignored.\n",
        "* Increasing the size or diversity of the training dataset may also lead to improved performance.\n"
      ],
      "metadata": {
        "id": "EJWx25KX2Zei"
      },
      "id": "EJWx25KX2Zei"
    }
  ],
  "metadata": {
    "colab": {
      "provenance": [],
      "gpuType": "T4"
    },
    "language_info": {
      "name": "python"
    },
    "kernelspec": {
      "name": "python3",
      "display_name": "Python 3"
    },
    "accelerator": "GPU"
  },
  "nbformat": 4,
  "nbformat_minor": 5
}